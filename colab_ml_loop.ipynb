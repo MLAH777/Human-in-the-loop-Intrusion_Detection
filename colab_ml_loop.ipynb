{
  "nbformat": 4,
  "nbformat_minor": 0,
  "metadata": {
    "colab": {
      "provenance": []
    },
    "kernelspec": {
      "name": "python3",
      "display_name": "Python 3"
    },
    "language_info": {
      "name": "python"
    }
  },
  "cells": [
    {
      "cell_type": "code",
      "source": [
        "from google.colab import drive\n",
        "drive.mount('/content/drive')\n",
        "\n",
        "import os\n",
        "ROOT = \"/content/drive/MyDrive/threat_project\"\n",
        "os.chdir(ROOT)\n",
        "print(\"cwd:\", os.getcwd())\n",
        "print(\"files:\", os.listdir(\".\")[:50])\n"
      ],
      "metadata": {
        "colab": {
          "base_uri": "https://localhost:8080/"
        },
        "id": "AjyWzNoBTBtP",
        "outputId": "9a3128e9-465b-4fb1-ec38-a266777b1de9"
      },
      "execution_count": 2,
      "outputs": [
        {
          "output_type": "stream",
          "name": "stdout",
          "text": [
            "Mounted at /content/drive\n",
            "cwd: /content/drive/MyDrive/threat_project\n",
            "files: ['port_detector.py', 'phishing_detector.py', 'bruteforce_detector.py', 'master_console.py', 'web_ui.py', 'create_big_dataset.py', 'big_threat_dataset.csv', 'ids_model.pkl', 'blocked_ips.txt', 'detections.json', 'web_ui.log']\n"
          ]
        }
      ]
    },
    {
      "cell_type": "code",
      "source": [
        "!pip install pandas scikit-learn joblib flask pyngrok"
      ],
      "metadata": {
        "id": "-LpVSxDBsDNK",
        "colab": {
          "base_uri": "https://localhost:8080/"
        },
        "outputId": "aa71221a-fa18-4f75-c71b-641ae7ad638e"
      },
      "execution_count": 5,
      "outputs": [
        {
          "output_type": "stream",
          "name": "stdout",
          "text": [
            "Requirement already satisfied: pandas in /usr/local/lib/python3.12/dist-packages (2.2.2)\n",
            "Requirement already satisfied: scikit-learn in /usr/local/lib/python3.12/dist-packages (1.6.1)\n",
            "Requirement already satisfied: joblib in /usr/local/lib/python3.12/dist-packages (1.5.2)\n",
            "Requirement already satisfied: flask in /usr/local/lib/python3.12/dist-packages (3.1.2)\n",
            "Collecting pyngrok\n",
            "  Downloading pyngrok-7.4.0-py3-none-any.whl.metadata (8.1 kB)\n",
            "Requirement already satisfied: numpy>=1.26.0 in /usr/local/lib/python3.12/dist-packages (from pandas) (2.0.2)\n",
            "Requirement already satisfied: python-dateutil>=2.8.2 in /usr/local/lib/python3.12/dist-packages (from pandas) (2.9.0.post0)\n",
            "Requirement already satisfied: pytz>=2020.1 in /usr/local/lib/python3.12/dist-packages (from pandas) (2025.2)\n",
            "Requirement already satisfied: tzdata>=2022.7 in /usr/local/lib/python3.12/dist-packages (from pandas) (2025.2)\n",
            "Requirement already satisfied: scipy>=1.6.0 in /usr/local/lib/python3.12/dist-packages (from scikit-learn) (1.16.2)\n",
            "Requirement already satisfied: threadpoolctl>=3.1.0 in /usr/local/lib/python3.12/dist-packages (from scikit-learn) (3.6.0)\n",
            "Requirement already satisfied: blinker>=1.9.0 in /usr/local/lib/python3.12/dist-packages (from flask) (1.9.0)\n",
            "Requirement already satisfied: click>=8.1.3 in /usr/local/lib/python3.12/dist-packages (from flask) (8.3.0)\n",
            "Requirement already satisfied: itsdangerous>=2.2.0 in /usr/local/lib/python3.12/dist-packages (from flask) (2.2.0)\n",
            "Requirement already satisfied: jinja2>=3.1.2 in /usr/local/lib/python3.12/dist-packages (from flask) (3.1.6)\n",
            "Requirement already satisfied: markupsafe>=2.1.1 in /usr/local/lib/python3.12/dist-packages (from flask) (3.0.3)\n",
            "Requirement already satisfied: werkzeug>=3.1.0 in /usr/local/lib/python3.12/dist-packages (from flask) (3.1.3)\n",
            "Requirement already satisfied: PyYAML>=5.1 in /usr/local/lib/python3.12/dist-packages (from pyngrok) (6.0.3)\n",
            "Requirement already satisfied: six>=1.5 in /usr/local/lib/python3.12/dist-packages (from python-dateutil>=2.8.2->pandas) (1.17.0)\n",
            "Downloading pyngrok-7.4.0-py3-none-any.whl (25 kB)\n",
            "Installing collected packages: pyngrok\n",
            "Successfully installed pyngrok-7.4.0\n"
          ]
        }
      ]
    },
    {
      "cell_type": "code",
      "source": [
        "import subprocess\n",
        "proc = subprocess.Popen([\"python\", \"master_console.py\"])"
      ],
      "metadata": {
        "id": "iGgeCy3g2dv9"
      },
      "execution_count": 3,
      "outputs": []
    },
    {
      "cell_type": "code",
      "source": [
        "# start web_ui.py and expose via ngrok\n",
        "from pyngrok import ngrok\n",
        "import subprocess, time, os, signal, sys\n",
        "\n",
        "# optional: set your ngrok authtoken (uncomment if you have one)\n",
        "ngrok.set_auth_token(\"2mEwJxgxSYm4OPapscHO5Vu5PcH_48RgJhqiiDXTY2gGoj5Ds\")\n",
        "\n",
        "# remove any previous tunnel\n",
        "for t in ngrok.get_tunnels():\n",
        "    try:\n",
        "        ngrok.disconnect(t.public_url)\n",
        "    except Exception:\n",
        "        pass\n",
        "\n",
        "# log file for Flask output\n",
        "FLASK_LOG = \"web_ui.log\"\n",
        "\n",
        "# start web_ui.py in background\n",
        "proc = subprocess.Popen([sys.executable, \"web_ui.py\"],\n",
        "                        stdout=open(FLASK_LOG, \"w\"),\n",
        "                        stderr=open(FLASK_LOG, \"w\"))\n",
        "\n",
        "# give it a moment to start\n",
        "time.sleep(1.5)\n",
        "\n",
        "# open ngrok TCP/HTTP tunnel to port 5000 (HTTP)\n",
        "public_tunnel = ngrok.connect(5000, \"http\")\n",
        "public_url = public_tunnel.public_url\n",
        "\n",
        "print(\"web_ui.py started in background (pid {}).\".format(proc.pid))\n",
        "print(\"ngrok public URL:\", public_url)\n",
        "print(\"Flask logs (last 20 lines):\\n\")\n",
        "!sleep 1\n",
        "!tail -n 20 web_ui.log || true\n",
        "\n",
        "# keep handles so later you can stop the process / tunnel\n",
        "_global = globals()\n",
        "_global[\"_webui_proc\"] = proc\n",
        "_global[\"_webui_ngrok_url\"] = public_url"
      ],
      "metadata": {
        "colab": {
          "base_uri": "https://localhost:8080/"
        },
        "id": "NNAdnxWXiMfl",
        "outputId": "e0a08740-92f2-41a4-9221-eb87b8898505"
      },
      "execution_count": 6,
      "outputs": [
        {
          "output_type": "stream",
          "name": "stdout",
          "text": [
            "web_ui.py started in background (pid 3016).\n",
            "ngrok public URL: https://ae4588ac9013.ngrok-free.app\n",
            "Flask logs (last 20 lines):\n",
            "\n"
          ]
        }
      ]
    },
    {
      "cell_type": "code",
      "source": [
        "# If it says Port 5000 already in use, run this\n",
        "proc = globals().get(\"_webui_proc\", None)\n",
        "if proc:\n",
        "    try:\n",
        "        proc.terminate()\n",
        "        print(\"Terminated stored _webui_proc (pid {})\".format(proc.pid))\n",
        "    except Exception as e:\n",
        "        print(\"Could not terminate stored process:\", e)\n",
        "else:\n",
        "    print(\"_webui_proc not found in globals\")"
      ],
      "metadata": {
        "colab": {
          "base_uri": "https://localhost:8080/"
        },
        "id": "xWHK3sZhegHp",
        "outputId": "ba0eb975-185d-4deb-ad59-013860236251"
      },
      "execution_count": null,
      "outputs": [
        {
          "output_type": "stream",
          "name": "stdout",
          "text": [
            "Terminated stored _webui_proc (pid 3940)\n"
          ]
        }
      ]
    },
    {
      "cell_type": "code",
      "source": [
        "# If it says Port 5000 already in use, run this\n",
        "!ss -ltnp | grep ':5000' || echo \"port 5000 is free\""
      ],
      "metadata": {
        "id": "pmapuLfTejEr"
      },
      "execution_count": null,
      "outputs": []
    },
    {
      "cell_type": "code",
      "source": [
        "# If it shows 500 Internal Server Error, use this to see what really happened\n",
        "!tail -n 400 web_ui.log || true"
      ],
      "metadata": {
        "colab": {
          "base_uri": "https://localhost:8080/"
        },
        "id": "U9FcZrl4U6Qq",
        "outputId": "8da11258-1386-4bc9-b256-156ed19c665c"
      },
      "execution_count": 7,
      "outputs": [
        {
          "output_type": "stream",
          "name": "stdout",
          "text": [
            "\u001b[31m\u001b[1mWARNING: This is a development server. Do not use it in a production deployment. Use a production WSGI server instead.\u001b[0m\n",
            " * Running on all addresses (0.0.0.0)\n",
            " * Running on http://127.0.0.1:5000\n",
            " * Running on http://172.28.0.12:5000\n",
            "\u001b[33mPress CTRL+C to quit\u001b[0m\n",
            "[2025-10-15 05:34:49,596] ERROR in app: Exception on / [GET]\n",
            "Traceback (most recent call last):\n",
            "  File \"/usr/local/lib/python3.12/dist-packages/flask/app.py\", line 1511, in wsgi_app\n",
            "    response = self.full_dispatch_request()\n",
            "               ^^^^^^^^^^^^^^^^^^^^^^^^^^^^\n",
            "  File \"/usr/local/lib/python3.12/dist-packages/flask/app.py\", line 919, in full_dispatch_request\n",
            "    rv = self.handle_user_exception(e)\n",
            "         ^^^^^^^^^^^^^^^^^^^^^^^^^^^^^\n",
            "  File \"/usr/local/lib/python3.12/dist-packages/flask/app.py\", line 917, in full_dispatch_request\n",
            "    rv = self.dispatch_request()\n",
            "         ^^^^^^^^^^^^^^^^^^^^^^^\n",
            "  File \"/usr/local/lib/python3.12/dist-packages/flask/app.py\", line 902, in dispatch_request\n",
            "    return self.ensure_sync(self.view_functions[rule.endpoint])(**view_args)  # type: ignore[no-any-return]\n",
            "           ^^^^^^^^^^^^^^^^^^^^^^^^^^^^^^^^^^^^^^^^^^^^^^^^^^^^^^^^^^^^^^^^^\n",
            "  File \"/content/drive/MyDrive/threat_project/web_ui.py\", line 81, in home\n",
            "    return render_template_string(template, detections=det)\n",
            "           ^^^^^^^^^^^^^^^^^^^^^^^^^^^^^^^^^^^^^^^^^^^^^^^^\n",
            "  File \"/usr/local/lib/python3.12/dist-packages/flask/templating.py\", line 162, in render_template_string\n",
            "    return _render(app, template, context)\n",
            "           ^^^^^^^^^^^^^^^^^^^^^^^^^^^^^^^\n",
            "  File \"/usr/local/lib/python3.12/dist-packages/flask/templating.py\", line 131, in _render\n",
            "    rv = template.render(context)\n",
            "         ^^^^^^^^^^^^^^^^^^^^^^^^\n",
            "  File \"/usr/local/lib/python3.12/dist-packages/jinja2/environment.py\", line 1295, in render\n",
            "    self.environment.handle_exception()\n",
            "  File \"/usr/local/lib/python3.12/dist-packages/jinja2/environment.py\", line 942, in handle_exception\n",
            "    raise rewrite_traceback_stack(source=source)\n",
            "  File \"<template>\", line 18, in top-level template code\n",
            "  File \"/usr/local/lib/python3.12/dist-packages/jinja2/utils.py\", line 92, in from_obj\n",
            "    if hasattr(obj, \"jinja_pass_arg\"):\n",
            "       ^^^^^^^^^^^^^^^^^^^^^^^^^^^^^^\n",
            "jinja2.exceptions.UndefinedError: 'enumerate' is undefined\n",
            "127.0.0.1 - - [15/Oct/2025 05:34:49] \"\u001b[35m\u001b[1mGET / HTTP/1.1\u001b[0m\" 500 -\n",
            "127.0.0.1 - - [15/Oct/2025 05:34:50] \"\u001b[33mGET /favicon.ico HTTP/1.1\u001b[0m\" 404 -\n"
          ]
        }
      ]
    },
    {
      "cell_type": "code",
      "source": [
        "# check if the web_ui.py process is alive\n",
        "import psutil, os, sys\n",
        "proc = globals().get(\"_webui_proc\", None)\n",
        "print(\"Stored _webui_proc:\", proc)\n",
        "if proc:\n",
        "    pid = proc.pid\n",
        "    alive = psutil.pid_exists(pid)\n",
        "    print(\"web_ui.py PID\", pid, \"alive:\", alive)\n",
        "else:\n",
        "    # fallback: search for python processes that look like web_ui\n",
        "    import subprocess\n",
        "    !ps aux | grep web_ui.py || true"
      ],
      "metadata": {
        "colab": {
          "base_uri": "https://localhost:8080/"
        },
        "id": "tKT1fyr_fIOA",
        "outputId": "b2aad241-14fc-496a-d4e9-a3cee343fe4e"
      },
      "execution_count": 8,
      "outputs": [
        {
          "output_type": "stream",
          "name": "stdout",
          "text": [
            "Stored _webui_proc: <Popen: returncode: None args: ['/usr/bin/python3', 'web_ui.py']>\n",
            "web_ui.py PID 3016 alive: True\n"
          ]
        }
      ]
    },
    {
      "cell_type": "code",
      "source": [
        "# If you wanna restart the whole process\n",
        "# stop old webui\n",
        "proc = globals().get(\"_webui_proc\", None)\n",
        "if proc:\n",
        "    try:\n",
        "        proc.terminate()\n",
        "    except:\n",
        "        pass\n",
        "# kill by name if necessary\n",
        "!pkill -f web_ui.py || true\n",
        "!sleep 1\n",
        "\n",
        "# remove old log to see fresh output\n",
        "!rm -f web_ui.log || true\n",
        "\n",
        "# start web_ui.py\n",
        "import subprocess, time, sys\n",
        "p = subprocess.Popen([sys.executable, \"web_ui.py\"], stdout=open(\"web_ui.log\",\"w\"), stderr=open(\"web_ui.log\",\"w\"))\n",
        "globals()[\"_webui_proc\"] = p\n",
        "time.sleep(1.5)\n",
        "print(\"Started web_ui.py pid\", p.pid)\n",
        "!tail -n 120 web_ui.log || true"
      ],
      "metadata": {
        "id": "Gqn8ufDuV1lF"
      },
      "execution_count": null,
      "outputs": []
    },
    {
      "cell_type": "code",
      "source": [
        "# Force a test Detection\n",
        "import json, time, os\n",
        "p = \"detections.json\"\n",
        "logs = json.load(open(p))\n",
        "logs.append({\"tool\":\"phish\",\"timestamp\":time.time(),\"src\":\"1.2.3.4\",\"dst\":\"-\",\"url\":\"test-phish-xyz.com\",\"heuristic_score\":7})\n",
        "json.dump(logs, open(p,\"w\"), indent=2)\n",
        "print(\"Wrote test detection. detections.json length:\", len(logs))"
      ],
      "metadata": {
        "id": "qw85CVPbV5bn"
      },
      "execution_count": null,
      "outputs": []
    },
    {
      "cell_type": "code",
      "execution_count": null,
      "metadata": {
        "id": "f6LmscXUrv1D",
        "colab": {
          "base_uri": "https://localhost:8080/",
          "height": 1000
        },
        "outputId": "32f67acc-2438-4cb5-adf3-b6aa96174f05"
      },
      "outputs": [
        {
          "output_type": "stream",
          "name": "stdout",
          "text": [
            "Starting continuous ML loop. Press stop to end cell.\n",
            "Retrained model on 177 labeled rows and saved to /content/drive/MyDrive/threat_project/ids_model.pkl\n",
            "Auto-Prevented 45.88.232.38 from brute\n",
            "Auto-Prevented 45.10.98.110 from brute\n",
            "Auto-Prevented unknown from phish\n",
            "Auto-Prevented 45.80.78.77 from brute\n",
            "Auto-Prevented unknown from phish\n",
            "Auto-Prevented 45.156.248.241 from brute\n",
            "Auto-Prevented unknown from phish\n",
            "Auto-Prevented 45.116.217.59 from brute\n",
            "Auto-Prevented 1.2.3.4 from phish\n",
            "Auto-Prevented 45.18.169.148 from brute\n",
            "Auto-Prevented unknown from phish\n",
            "Auto-Prevented unknown from phish\n",
            "Auto-Prevented 45.138.71.240 from brute\n",
            "Auto-Prevented 1.2.3.4 from phish\n"
          ]
        },
        {
          "output_type": "stream",
          "name": "stderr",
          "text": [
            "/usr/local/lib/python3.12/dist-packages/sklearn/utils/validation.py:2739: UserWarning: X does not have valid feature names, but DecisionTreeClassifier was fitted with feature names\n",
            "  warnings.warn(\n",
            "/usr/local/lib/python3.12/dist-packages/sklearn/utils/validation.py:2739: UserWarning: X does not have valid feature names, but DecisionTreeClassifier was fitted with feature names\n",
            "  warnings.warn(\n",
            "/usr/local/lib/python3.12/dist-packages/sklearn/utils/validation.py:2739: UserWarning: X does not have valid feature names, but DecisionTreeClassifier was fitted with feature names\n",
            "  warnings.warn(\n",
            "/usr/local/lib/python3.12/dist-packages/sklearn/utils/validation.py:2739: UserWarning: X does not have valid feature names, but DecisionTreeClassifier was fitted with feature names\n",
            "  warnings.warn(\n",
            "/usr/local/lib/python3.12/dist-packages/sklearn/utils/validation.py:2739: UserWarning: X does not have valid feature names, but DecisionTreeClassifier was fitted with feature names\n",
            "  warnings.warn(\n",
            "/usr/local/lib/python3.12/dist-packages/sklearn/utils/validation.py:2739: UserWarning: X does not have valid feature names, but DecisionTreeClassifier was fitted with feature names\n",
            "  warnings.warn(\n",
            "/usr/local/lib/python3.12/dist-packages/sklearn/utils/validation.py:2739: UserWarning: X does not have valid feature names, but DecisionTreeClassifier was fitted with feature names\n",
            "  warnings.warn(\n",
            "/usr/local/lib/python3.12/dist-packages/sklearn/utils/validation.py:2739: UserWarning: X does not have valid feature names, but DecisionTreeClassifier was fitted with feature names\n",
            "  warnings.warn(\n",
            "/usr/local/lib/python3.12/dist-packages/sklearn/utils/validation.py:2739: UserWarning: X does not have valid feature names, but DecisionTreeClassifier was fitted with feature names\n",
            "  warnings.warn(\n",
            "/usr/local/lib/python3.12/dist-packages/sklearn/utils/validation.py:2739: UserWarning: X does not have valid feature names, but DecisionTreeClassifier was fitted with feature names\n",
            "  warnings.warn(\n",
            "/usr/local/lib/python3.12/dist-packages/sklearn/utils/validation.py:2739: UserWarning: X does not have valid feature names, but DecisionTreeClassifier was fitted with feature names\n",
            "  warnings.warn(\n",
            "/usr/local/lib/python3.12/dist-packages/sklearn/utils/validation.py:2739: UserWarning: X does not have valid feature names, but DecisionTreeClassifier was fitted with feature names\n",
            "  warnings.warn(\n",
            "/usr/local/lib/python3.12/dist-packages/sklearn/utils/validation.py:2739: UserWarning: X does not have valid feature names, but DecisionTreeClassifier was fitted with feature names\n",
            "  warnings.warn(\n",
            "/usr/local/lib/python3.12/dist-packages/sklearn/utils/validation.py:2739: UserWarning: X does not have valid feature names, but DecisionTreeClassifier was fitted with feature names\n",
            "  warnings.warn(\n",
            "/usr/local/lib/python3.12/dist-packages/sklearn/utils/validation.py:2739: UserWarning: X does not have valid feature names, but DecisionTreeClassifier was fitted with feature names\n",
            "  warnings.warn(\n",
            "/usr/local/lib/python3.12/dist-packages/sklearn/utils/validation.py:2739: UserWarning: X does not have valid feature names, but DecisionTreeClassifier was fitted with feature names\n",
            "  warnings.warn(\n",
            "/usr/local/lib/python3.12/dist-packages/sklearn/utils/validation.py:2739: UserWarning: X does not have valid feature names, but DecisionTreeClassifier was fitted with feature names\n",
            "  warnings.warn(\n",
            "/usr/local/lib/python3.12/dist-packages/sklearn/utils/validation.py:2739: UserWarning: X does not have valid feature names, but DecisionTreeClassifier was fitted with feature names\n",
            "  warnings.warn(\n",
            "/usr/local/lib/python3.12/dist-packages/sklearn/utils/validation.py:2739: UserWarning: X does not have valid feature names, but DecisionTreeClassifier was fitted with feature names\n",
            "  warnings.warn(\n",
            "/usr/local/lib/python3.12/dist-packages/sklearn/utils/validation.py:2739: UserWarning: X does not have valid feature names, but DecisionTreeClassifier was fitted with feature names\n",
            "  warnings.warn(\n",
            "/usr/local/lib/python3.12/dist-packages/sklearn/utils/validation.py:2739: UserWarning: X does not have valid feature names, but DecisionTreeClassifier was fitted with feature names\n",
            "  warnings.warn(\n",
            "/usr/local/lib/python3.12/dist-packages/sklearn/utils/validation.py:2739: UserWarning: X does not have valid feature names, but DecisionTreeClassifier was fitted with feature names\n",
            "  warnings.warn(\n",
            "/usr/local/lib/python3.12/dist-packages/sklearn/utils/validation.py:2739: UserWarning: X does not have valid feature names, but DecisionTreeClassifier was fitted with feature names\n",
            "  warnings.warn(\n",
            "/usr/local/lib/python3.12/dist-packages/sklearn/utils/validation.py:2739: UserWarning: X does not have valid feature names, but DecisionTreeClassifier was fitted with feature names\n",
            "  warnings.warn(\n",
            "/usr/local/lib/python3.12/dist-packages/sklearn/utils/validation.py:2739: UserWarning: X does not have valid feature names, but DecisionTreeClassifier was fitted with feature names\n",
            "  warnings.warn(\n",
            "/usr/local/lib/python3.12/dist-packages/sklearn/utils/validation.py:2739: UserWarning: X does not have valid feature names, but DecisionTreeClassifier was fitted with feature names\n",
            "  warnings.warn(\n",
            "/usr/local/lib/python3.12/dist-packages/sklearn/utils/validation.py:2739: UserWarning: X does not have valid feature names, but DecisionTreeClassifier was fitted with feature names\n",
            "  warnings.warn(\n",
            "/usr/local/lib/python3.12/dist-packages/sklearn/utils/validation.py:2739: UserWarning: X does not have valid feature names, but DecisionTreeClassifier was fitted with feature names\n",
            "  warnings.warn(\n"
          ]
        },
        {
          "output_type": "stream",
          "name": "stdout",
          "text": [
            "Auto-Prevented 45.97.98.119 from brute\n",
            "Auto-Prevented 45.96.42.161 from brute\n"
          ]
        },
        {
          "output_type": "stream",
          "name": "stderr",
          "text": [
            "/usr/local/lib/python3.12/dist-packages/sklearn/utils/validation.py:2739: UserWarning: X does not have valid feature names, but DecisionTreeClassifier was fitted with feature names\n",
            "  warnings.warn(\n",
            "/usr/local/lib/python3.12/dist-packages/sklearn/utils/validation.py:2739: UserWarning: X does not have valid feature names, but DecisionTreeClassifier was fitted with feature names\n",
            "  warnings.warn(\n",
            "/usr/local/lib/python3.12/dist-packages/sklearn/utils/validation.py:2739: UserWarning: X does not have valid feature names, but DecisionTreeClassifier was fitted with feature names\n",
            "  warnings.warn(\n",
            "/usr/local/lib/python3.12/dist-packages/sklearn/utils/validation.py:2739: UserWarning: X does not have valid feature names, but DecisionTreeClassifier was fitted with feature names\n",
            "  warnings.warn(\n",
            "/usr/local/lib/python3.12/dist-packages/sklearn/utils/validation.py:2739: UserWarning: X does not have valid feature names, but DecisionTreeClassifier was fitted with feature names\n",
            "  warnings.warn(\n",
            "/usr/local/lib/python3.12/dist-packages/sklearn/utils/validation.py:2739: UserWarning: X does not have valid feature names, but DecisionTreeClassifier was fitted with feature names\n",
            "  warnings.warn(\n",
            "/usr/local/lib/python3.12/dist-packages/sklearn/utils/validation.py:2739: UserWarning: X does not have valid feature names, but DecisionTreeClassifier was fitted with feature names\n",
            "  warnings.warn(\n",
            "/usr/local/lib/python3.12/dist-packages/sklearn/utils/validation.py:2739: UserWarning: X does not have valid feature names, but DecisionTreeClassifier was fitted with feature names\n",
            "  warnings.warn(\n"
          ]
        },
        {
          "output_type": "stream",
          "name": "stdout",
          "text": [
            "Auto-Prevented unknown from phish\n",
            "Auto-Prevented 45.6.24.97 from brute\n"
          ]
        },
        {
          "output_type": "stream",
          "name": "stderr",
          "text": [
            "/usr/local/lib/python3.12/dist-packages/sklearn/utils/validation.py:2739: UserWarning: X does not have valid feature names, but DecisionTreeClassifier was fitted with feature names\n",
            "  warnings.warn(\n",
            "/usr/local/lib/python3.12/dist-packages/sklearn/utils/validation.py:2739: UserWarning: X does not have valid feature names, but DecisionTreeClassifier was fitted with feature names\n",
            "  warnings.warn(\n",
            "/usr/local/lib/python3.12/dist-packages/sklearn/utils/validation.py:2739: UserWarning: X does not have valid feature names, but DecisionTreeClassifier was fitted with feature names\n",
            "  warnings.warn(\n",
            "/usr/local/lib/python3.12/dist-packages/sklearn/utils/validation.py:2739: UserWarning: X does not have valid feature names, but DecisionTreeClassifier was fitted with feature names\n",
            "  warnings.warn(\n",
            "/usr/local/lib/python3.12/dist-packages/sklearn/utils/validation.py:2739: UserWarning: X does not have valid feature names, but DecisionTreeClassifier was fitted with feature names\n",
            "  warnings.warn(\n",
            "/usr/local/lib/python3.12/dist-packages/sklearn/utils/validation.py:2739: UserWarning: X does not have valid feature names, but DecisionTreeClassifier was fitted with feature names\n",
            "  warnings.warn(\n",
            "/usr/local/lib/python3.12/dist-packages/sklearn/utils/validation.py:2739: UserWarning: X does not have valid feature names, but DecisionTreeClassifier was fitted with feature names\n",
            "  warnings.warn(\n",
            "/usr/local/lib/python3.12/dist-packages/sklearn/utils/validation.py:2739: UserWarning: X does not have valid feature names, but DecisionTreeClassifier was fitted with feature names\n",
            "  warnings.warn(\n"
          ]
        },
        {
          "output_type": "stream",
          "name": "stdout",
          "text": [
            "Auto-Prevented unknown from phish\n"
          ]
        },
        {
          "output_type": "error",
          "ename": "KeyboardInterrupt",
          "evalue": "",
          "traceback": [
            "\u001b[0;31m---------------------------------------------------------------------------\u001b[0m",
            "\u001b[0;31mKeyboardInterrupt\u001b[0m                         Traceback (most recent call last)",
            "\u001b[0;32m/tmp/ipython-input-713956633.py\u001b[0m in \u001b[0;36m<cell line: 0>\u001b[0;34m()\u001b[0m\n\u001b[1;32m     76\u001b[0m     \u001b[0mtrain_model_if_needed\u001b[0m\u001b[0;34m(\u001b[0m\u001b[0;34m)\u001b[0m\u001b[0;34m\u001b[0m\u001b[0;34m\u001b[0m\u001b[0m\n\u001b[1;32m     77\u001b[0m     \u001b[0mprocess_detections\u001b[0m\u001b[0;34m(\u001b[0m\u001b[0;34m)\u001b[0m\u001b[0;34m\u001b[0m\u001b[0;34m\u001b[0m\u001b[0m\n\u001b[0;32m---> 78\u001b[0;31m     \u001b[0mtime\u001b[0m\u001b[0;34m.\u001b[0m\u001b[0msleep\u001b[0m\u001b[0;34m(\u001b[0m\u001b[0;36m20\u001b[0m\u001b[0;34m)\u001b[0m\u001b[0;34m\u001b[0m\u001b[0;34m\u001b[0m\u001b[0m\n\u001b[0m",
            "\u001b[0;31mKeyboardInterrupt\u001b[0m: "
          ]
        }
      ],
      "source": [
        "import os, time, json, joblib, pandas as pd\n",
        "from sklearn.tree import DecisionTreeClassifier\n",
        "MODEL_FILE = os.path.join(ROOT,\"ids_model.pkl\")\n",
        "DATA_FILE = os.path.join(ROOT,\"big_threat_dataset.csv\")\n",
        "LOG_FILE = os.path.join(ROOT,\"detections.json\")\n",
        "BLOCKED = os.path.join(ROOT,\"blocked_ips.txt\")\n",
        "last_dataset_len = 0\n",
        "\n",
        "def load_dataset():\n",
        "    if not os.path.exists(DATA_FILE):\n",
        "        return pd.DataFrame(columns=[\"AttackType\",\"SourceIP\",\"DestIP\",\"Port\",\"URL/Domain\",\"Username\",\"Attempts\",\"HumanDecision\",\"HumanReason\"])\n",
        "    return pd.read_csv(DATA_FILE)\n",
        "\n",
        "def train_model_if_needed():\n",
        "    global last_dataset_len\n",
        "    df = load_dataset()\n",
        "    if len(df) <= last_dataset_len:\n",
        "        return\n",
        "    last_dataset_len = len(df)\n",
        "    train_df = df[df[\"HumanDecision\"].isin([\"Safe\",\"Prevent\"])]\n",
        "    if len(train_df) < 20:\n",
        "        print(\"Not enough labeled rows to retrain yet:\", len(train_df))\n",
        "        return\n",
        "    X = pd.DataFrame()\n",
        "    X[\"port_n\"] = pd.to_numeric(train_df[\"Port\"].apply(lambda x: str(x).split('-')[0] if str(x).isdigit() else 0), errors=\"coerce\").fillna(0)\n",
        "    X[\"attempts_n\"] = pd.to_numeric(train_df[\"Attempts\"], errors=\"coerce\").fillna(0)\n",
        "    X[\"phish_flag\"] = train_df[\"URL/Domain\"].apply(lambda u: 1 if isinstance(u,str) and any(k in u for k in [\"secure\",\"login\",\"verify\",\"update\",\"confirm\",\"bank\",\"paypal\"]) else 0)\n",
        "    y = (train_df[\"HumanDecision\"]==\"Prevent\").astype(int)\n",
        "    clf = DecisionTreeClassifier(max_depth=6)\n",
        "    clf.fit(X, y)\n",
        "    joblib.dump(clf, MODEL_FILE)\n",
        "    print(\"Retrained model on\", len(train_df), \"labeled rows and saved to\", MODEL_FILE)\n",
        "\n",
        "def process_detections():\n",
        "    if not os.path.exists(LOG_FILE):\n",
        "        return\n",
        "    try:\n",
        "        logs = json.load(open(LOG_FILE,\"r\"))\n",
        "    except:\n",
        "        logs = []\n",
        "    processed = []\n",
        "    model = joblib.load(MODEL_FILE) if os.path.exists(MODEL_FILE) else None\n",
        "    for i, e in enumerate(logs):\n",
        "        if e.get(\"tool\") == \"port\":\n",
        "            port = int(e.get(\"port\",0))\n",
        "            attempts = 0\n",
        "            phish_flag = 0\n",
        "        elif e.get(\"tool\") == \"brute\":\n",
        "            port = int(e.get(\"port\",0)) if e.get(\"port\") else 22\n",
        "            attempts = int(e.get(\"attempts\",0))\n",
        "            phish_flag = 0\n",
        "        else:\n",
        "            port = 0\n",
        "            attempts = 0\n",
        "            phish_flag = 1 if e.get(\"url\") and any(k in e.get(\"url\") for k in [\"secure\",\"login\",\"verify\",\"update\",\"confirm\",\"bank\",\"paypal\"]) else 0\n",
        "        X = [[port, attempts, phish_flag]]\n",
        "        if model is not None:\n",
        "            try:\n",
        "                pred = model.predict(X)[0]\n",
        "                if pred == 1:\n",
        "                    ip = e.get(\"src\",\"-\")\n",
        "                    with open(BLOCKED,\"a\") as f:\n",
        "                        f.write(str(ip)+\"\\n\")\n",
        "                    print(\"Auto-Prevented\", ip, \"from\", e.get(\"tool\"))\n",
        "                    processed.append(i)\n",
        "                    continue\n",
        "            except Exception as ex:\n",
        "                pass\n",
        "        # if we reach here, unknown or model not certain: leave for human\n",
        "    # remove processed entries by index\n",
        "    remaining = [v for idx,v in enumerate(logs) if idx not in processed]\n",
        "    json.dump(remaining, open(LOG_FILE,\"w\"), indent=2)\n",
        "\n",
        "print(\"Starting continuous ML loop. Press stop to end cell.\")\n",
        "while True:\n",
        "    train_model_if_needed()\n",
        "    process_detections()\n",
        "    time.sleep(20)"
      ]
    }
  ]
}